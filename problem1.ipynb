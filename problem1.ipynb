{
  "nbformat": 4,
  "nbformat_minor": 0,
  "metadata": {
    "colab": {
      "provenance": [],
      "authorship_tag": "ABX9TyMNuG/B9Amz0RU1T9I7vTAj",
      "include_colab_link": true
    },
    "kernelspec": {
      "name": "python3",
      "display_name": "Python 3"
    },
    "language_info": {
      "name": "python"
    }
  },
  "cells": [
    {
      "cell_type": "markdown",
      "metadata": {
        "id": "view-in-github",
        "colab_type": "text"
      },
      "source": [
        "<a href=\"https://colab.research.google.com/github/1bensupriatma/GenerativeAI/blob/main/problem1.ipynb\" target=\"_parent\"><img src=\"https://colab.research.google.com/assets/colab-badge.svg\" alt=\"Open In Colab\"/></a>"
      ]
    },
    {
      "cell_type": "code",
      "execution_count": null,
      "metadata": {
        "id": "DTuJQMdNfDwW"
      },
      "outputs": [],
      "source": [
        "#@title Defining Known Land Mass Points\n",
        "\n",
        "# A dictionary where each key is a continent and the value is a list of tuples\n",
        "# representing points on that continent.\n",
        "\n",
        "land_points = {\n",
        "    'South America': [(-30, -60), (-15, -50), (0, -45), (15, -30), (30, -20)],\n",
        "    'Australia': [(50, 10), (55, 0), (60, 10), (65, 20), (70, 30)],\n",
        "    'Asia': [(20, 60), (30, 70), (40, 80), (50, 90), (60, 100)],\n",
        "    'Africa': [(0, 20), (10, 20), (20, 30), (30, 40), (40, 50)],\n",
        "    'Europe': [(-35, 140), (-30, 145), (-25, 150), (-20, 155), (-15, 160)]\n",
        "}\n"
      ]
    },
    {
      "cell_type": "code",
      "source": [
        "#@title Defining a Grid of Points\n",
        "\n",
        "# Create a grid of points with latitude ranging from -90 to 90 and longitude\n",
        "# from -180 to 180 in steps of 10.\n",
        "\n",
        "grid_points = [(x, y) for x in range(-90, 91, 10) for y in range(-180, 181, 10)]\n"
      ],
      "metadata": {
        "id": "Rb1ogKesfMGT"
      },
      "execution_count": null,
      "outputs": []
    },
    {
      "cell_type": "code",
      "source": [
        "#@title Calculating Prior Probabilities\n",
        "\n",
        "# This function calculates the prior probabilities of a point being land or sea based on\n",
        "# the number of land points versus the total points.\n",
        "\n",
        "def calculate_prior_probabilities(land_points, total_points):\n",
        "    P_land = sum(len(points) for points in land_points.values()) / total_points\n",
        "    P_sea = 1 - P_land\n",
        "\n",
        "    return P_land, P_sea"
      ],
      "metadata": {
        "id": "NE9zFEE_fN6a"
      },
      "execution_count": null,
      "outputs": []
    },
    {
      "cell_type": "code",
      "source": [
        "#@title Calculating Likelihoods\n",
        "\n",
        "# This function calculates the likelihoods of points being land or sea based on their distances\n",
        "# to the nearest land point.\n",
        "\n",
        "# The likelihood decreases exponentially with increasing distance from land.\n",
        "\n",
        "def calculate_likelihoods(grid_points, land_points):\n",
        "    likelihoods_land = {}\n",
        "    likelihoods_sea = {}\n",
        "\n",
        "    all_land_points = [point for points in land_points.values() for point in points]\n",
        "\n",
        "    for point in grid_points:\n",
        "        distances_to_land = distance.cdist([point], all_land_points, 'euclidean').min()\n",
        "        likelihoods_land[point] = np.exp(-distances_to_land)  # Exponential decay\n",
        "        likelihoods_sea[point] = 1 - likelihoods_land[point]  # Opposite of land\n",
        "\n",
        "    return likelihoods_land, likelihoods_sea"
      ],
      "metadata": {
        "id": "cPcjnTE2fRCb"
      },
      "execution_count": null,
      "outputs": []
    },
    {
      "cell_type": "code",
      "source": [
        "#@title Classifying Points\n",
        "\n",
        "# This function classifies a point as land if it lies within the defined bounds of\n",
        "# the \"land model\" box, otherwise classifies it as sea.\n",
        "\n",
        "\n",
        "def classify_point(point, box_bounds):\n",
        "    x_min, x_max, y_min, y_max = box_bounds\n",
        "    if x_min <= point[0] <= x_max and y_min <= point[1] <= y_max:\n",
        "        return 'Land'\n",
        "\n",
        "    else:\n",
        "        return 'Sea'"
      ],
      "metadata": {
        "id": "pyIDmdgbfTn6"
      },
      "execution_count": null,
      "outputs": []
    },
    {
      "cell_type": "code",
      "source": [
        "#@title Plotting the Points and Model\n",
        "\n",
        "# This functions plots the land points, test points, and the bounding box of\n",
        "# the land model on a 2D plot.\n",
        "\n",
        "# Function to plot the points and the model\n",
        "def plot_points(land_points, test_points, test_classifications, box_bounds):\n",
        "    fig, ax = plt.subplots()\n",
        "\n",
        "    # Define colors for each continent\n",
        "    continent_colors = {\n",
        "        'South America': 'green',\n",
        "        'Europe': 'red',\n",
        "        'Asia': 'blue',\n",
        "        'Africa': 'purple',\n",
        "        'Australia': 'orange'\n",
        "    }\n",
        "\n",
        "    # Plot land points by continent\n",
        "    for continent, points in land_points.items():\n",
        "        land_x, land_y = zip(*points)\n",
        "        ax.scatter(land_x, land_y, color=continent_colors[continent], label=f'{continent}')\n",
        "\n",
        "    # Highlight land model with an orange box\n",
        "    x_min, x_max, y_min, y_max = box_bounds\n",
        "    land_model_x = [x_min, x_max, x_max, x_min, x_min]\n",
        "    land_model_y = [y_min, y_min, y_max, y_max, y_min]\n",
        "    ax.plot(land_model_x, land_model_y, color='orange', label='Land Model')\n",
        "\n",
        "    # Plot test points\n",
        "    for point, classification in zip(test_points, test_classifications):\n",
        "        color = 'green' if classification == 'Land' else 'blue'\n",
        "        ax.scatter(point[0], point[1], color=color, edgecolors='red', label=f'Test Point ({classification})')\n",
        "\n",
        "    # Place the legend outside the plot box\n",
        "    ax.legend(bbox_to_anchor=(1.05, 1), loc='upper left')\n",
        "    plt.xlabel('Latitude')\n",
        "    plt.ylabel('Longitude')\n",
        "    plt.title('Land and Sea Points with Model')\n",
        "    plt.grid(False)  # Remove grid\n",
        "    plt.show()"
      ],
      "metadata": {
        "id": "gACJ8U8zfVj7"
      },
      "execution_count": null,
      "outputs": []
    },
    {
      "cell_type": "code",
      "source": [
        "#@title Main Execution\n",
        "\n",
        "# This section calculates the total grid points, prior probabilities, likelihoods,\n",
        "# defines the model box, classifies test points, prints the classifications, and\n",
        "# plots the points and the model.\n",
        "\n",
        "# Total points in the grid\n",
        "total_points = len(grid_points)\n",
        "\n",
        "# Calculate prior probabilities\n",
        "P_land, P_sea = calculate_prior_probabilities(land_points, total_points)\n",
        "\n",
        "# Calculate likelihoods\n",
        "likelihoods_land, likelihoods_sea = calculate_likelihoods(grid_points, land_points)\n",
        "\n",
        "# Define the bounds of the model box\n",
        "all_land_x = [point[0] for points in land_points.values() for point in points]\n",
        "all_land_y = [point[1] for points in land_points.values() for point in points]\n",
        "x_min, x_max = min(all_land_x) - 5, max(all_land_x) + 5\n",
        "y_min, y_max = min(all_land_y) - 5, max(all_land_y) + 5\n",
        "box_bounds = (x_min, x_max, y_min, y_max)\n",
        "\n",
        "\n",
        "# Define unknown test cases with more land points and fewer sea points\n",
        "test_points = [\n",
        "    # Land points inside the model\n",
        "    (-20, -40), (20, 75), (50, 50), (-30, 160), (80, -170), (-55, 150)\n",
        "]\n",
        "\n",
        "# Classify test points\n",
        "test_classifications = [classify_point(point, box_bounds) for point in test_points]\n",
        "\n",
        "# Print test point classifications\n",
        "print(\"\\nTest Point Classifications:\")\n",
        "for point, classification in zip(test_points, test_classifications):\n",
        "    print(f\"Point {point}: {classification}\")\n",
        "\n",
        "# Plot the points and the model\n",
        "plot_points(land_points, test_points, test_classifications, box_bounds)"
      ],
      "metadata": {
        "id": "xTxg4tvTfXo-"
      },
      "execution_count": null,
      "outputs": []
    }
  ]
}